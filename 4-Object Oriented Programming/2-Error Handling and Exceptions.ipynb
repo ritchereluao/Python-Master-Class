{
 "cells": [
  {
   "cell_type": "markdown",
   "metadata": {},
   "source": [
    "## try and except\n",
    "\n",
    "The basic terminology and syntax used to handle errors in Python is the **try** and **except** statements. The code which can cause an exception to occue is put in the try block and the handling of the exception is the implemented in the except block of code. The syntax form is:\n",
    "\n",
    "    try:\n",
    "       # You attempt your operation here\n",
    "    except ExceptionI:\n",
    "       # If there is ExceptionI, then execute this block.\n",
    "    except ExceptionII:\n",
    "       # If there is ExceptionII, then execute this block.\n",
    "    else:\n",
    "       # If there is no exception then execute this block.\n",
    "   \n",
    "We can also just check for any exception with just using** except:** To get a better understanding of all this lets check out an example: We will look at some code that opens and writes a file:"
   ]
  },
  {
   "cell_type": "code",
   "execution_count": 8,
   "metadata": {},
   "outputs": [
    {
     "name": "stdout",
     "output_type": "stream",
     "text": [
      "Please enter a number fasdfasd\n",
      "Hey, make sure you enter a number!\n"
     ]
    }
   ],
   "source": [
    "try:\n",
    "    result = input(\"Please enter a number \")\n",
    "    1 + int(result)\n",
    "\n",
    "except TypeError:\n",
    "    print('You are not adding the correct things together')\n",
    "\n",
    "except ValueError:\n",
    "    print('Hey, make sure you enter a number!')\n",
    "    \n",
    "else:\n",
    "    print('Everything ran smoothly')"
   ]
  },
  {
   "cell_type": "code",
   "execution_count": null,
   "metadata": {},
   "outputs": [],
   "source": []
  },
  {
   "cell_type": "code",
   "execution_count": 10,
   "metadata": {},
   "outputs": [
    {
     "name": "stdout",
     "output_type": "stream",
     "text": [
      "Please enter a number 5\n",
      "Everything ran smoothly\n"
     ]
    }
   ],
   "source": [
    "try:\n",
    "    result = input(\"Please enter a number \")\n",
    "    1 + int(result)\n",
    "\n",
    "except:\n",
    "    print('Hey an error occurred')\n",
    "    \n",
    "else:\n",
    "    print('Everything ran smoothly')"
   ]
  },
  {
   "cell_type": "code",
   "execution_count": null,
   "metadata": {},
   "outputs": [],
   "source": []
  },
  {
   "cell_type": "code",
   "execution_count": 14,
   "metadata": {},
   "outputs": [
    {
     "name": "stdout",
     "output_type": "stream",
     "text": [
      "Everything worked\n",
      "Finally I always run this block of code\n"
     ]
    }
   ],
   "source": [
    "try:\n",
    "    f = open('testfile','w')\n",
    "    f.write('Test write this')\n",
    "    \n",
    "except:\n",
    "    print('Hey an error occured')\n",
    "    \n",
    "else:\n",
    "    print('Everything worked')\n",
    "    \n",
    "finally:\n",
    "    print('Finally I always run this block of code')"
   ]
  },
  {
   "cell_type": "code",
   "execution_count": null,
   "metadata": {},
   "outputs": [],
   "source": []
  },
  {
   "cell_type": "code",
   "execution_count": null,
   "metadata": {},
   "outputs": [],
   "source": []
  },
  {
   "cell_type": "code",
   "execution_count": null,
   "metadata": {},
   "outputs": [],
   "source": []
  }
 ],
 "metadata": {
  "kernelspec": {
   "display_name": "Python 3",
   "language": "python",
   "name": "python3"
  },
  "language_info": {
   "codemirror_mode": {
    "name": "ipython",
    "version": 3
   },
   "file_extension": ".py",
   "mimetype": "text/x-python",
   "name": "python",
   "nbconvert_exporter": "python",
   "pygments_lexer": "ipython3",
   "version": "3.7.3"
  }
 },
 "nbformat": 4,
 "nbformat_minor": 2
}
