{
 "cells": [
  {
   "cell_type": "markdown",
   "metadata": {},
   "source": [
    "# Control Flow"
   ]
  },
  {
   "cell_type": "code",
   "execution_count": null,
   "metadata": {},
   "outputs": [],
   "source": []
  },
  {
   "cell_type": "code",
   "execution_count": 15,
   "metadata": {},
   "outputs": [],
   "source": [
    "cond = 1 < 2"
   ]
  },
  {
   "cell_type": "code",
   "execution_count": 5,
   "metadata": {},
   "outputs": [
    {
     "name": "stdout",
     "output_type": "stream",
     "text": [
      "cond met\n"
     ]
    }
   ],
   "source": [
    "if cond:\n",
    "    print('cond met')"
   ]
  },
  {
   "cell_type": "code",
   "execution_count": 7,
   "metadata": {},
   "outputs": [
    {
     "name": "stdout",
     "output_type": "stream",
     "text": [
      "Last block happened to run\n"
     ]
    }
   ],
   "source": [
    "if 1==1000:\n",
    "    print('Condition Met 1==1')\n",
    "else:\n",
    "    print('Last block happened to run')"
   ]
  },
  {
   "cell_type": "code",
   "execution_count": 10,
   "metadata": {},
   "outputs": [
    {
     "name": "stdout",
     "output_type": "stream",
     "text": [
      "Second condition true\n"
     ]
    }
   ],
   "source": [
    "if 2==0:\n",
    "    print('First condition true')\n",
    "elif 2==2:\n",
    "    print('Second condition true')\n",
    "elif 2==2:\n",
    "    print('Third condition true')\n",
    "else:\n",
    "    print('Nothing above was true')"
   ]
  },
  {
   "cell_type": "code",
   "execution_count": 11,
   "metadata": {},
   "outputs": [],
   "source": [
    "agent_code = 231912\n",
    "access = False"
   ]
  },
  {
   "cell_type": "code",
   "execution_count": 12,
   "metadata": {},
   "outputs": [
    {
     "name": "stdout",
     "output_type": "stream",
     "text": [
      "Welcome Agent 231912\n",
      "Access Granted\n"
     ]
    }
   ],
   "source": [
    "if agent_code == 12345:\n",
    "    print('CODE RESET')\n",
    "    print('Call a Supervisor')\n",
    "elif agent_code == 231912:\n",
    "    print('Welcome Agent 231912')\n",
    "    access = True\n",
    "else:\n",
    "    print('Sorry, no matching code')\n",
    "    \n",
    "    \n",
    "\n",
    "### \n",
    "\n",
    "if access == True:\n",
    "    print(\"Access Granted\")\n",
    "else:\n",
    "    print(\"Access Denied.\")"
   ]
  },
  {
   "cell_type": "code",
   "execution_count": 13,
   "metadata": {},
   "outputs": [
    {
     "name": "stdout",
     "output_type": "stream",
     "text": [
      "Welcome Agent 231912\n"
     ]
    }
   ],
   "source": [
    "if agent_code == 12345:\n",
    "    print('CODE RESET')\n",
    "    print('Call a Supervisor')\n",
    "elif agent_code == 231912:\n",
    "    print('Welcome Agent 231912')\n",
    "    access = True\n",
    "else:\n",
    "    print('Sorry, no matching code')\n",
    "    \n",
    "    \n",
    "\n",
    "### \n",
    "\n"
   ]
  },
  {
   "cell_type": "code",
   "execution_count": 14,
   "metadata": {},
   "outputs": [
    {
     "name": "stdout",
     "output_type": "stream",
     "text": [
      "Access Granted\n"
     ]
    }
   ],
   "source": [
    "if access == True:\n",
    "    print(\"Access Granted\")\n",
    "else:\n",
    "    print(\"Access Denied.\")"
   ]
  },
  {
   "cell_type": "code",
   "execution_count": null,
   "metadata": {},
   "outputs": [],
   "source": []
  }
 ],
 "metadata": {
  "kernelspec": {
   "display_name": "Python 3",
   "language": "python",
   "name": "python3"
  },
  "language_info": {
   "codemirror_mode": {
    "name": "ipython",
    "version": 3
   },
   "file_extension": ".py",
   "mimetype": "text/x-python",
   "name": "python",
   "nbconvert_exporter": "python",
   "pygments_lexer": "ipython3",
   "version": "3.7.3"
  }
 },
 "nbformat": 4,
 "nbformat_minor": 2
}
