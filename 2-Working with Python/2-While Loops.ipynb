{
 "cells": [
  {
   "cell_type": "code",
   "execution_count": 2,
   "metadata": {},
   "outputs": [
    {
     "name": "stdout",
     "output_type": "stream",
     "text": [
      "X is currently:\n",
      "0\n",
      "Still less than 3, add 1 to x\n",
      "\n",
      "\n",
      "X is currently:\n",
      "1\n",
      "Still less than 3, add 1 to x\n",
      "\n",
      "\n",
      "X is currently:\n",
      "2\n",
      "Still less than 3, add 1 to x\n",
      "\n",
      "\n",
      "X is currently:\n",
      "3\n",
      "Still less than 3, add 1 to x\n",
      "\n",
      "\n"
     ]
    }
   ],
   "source": [
    "x = 0\n",
    "\n",
    "while x <= 3:\n",
    "    print('X is currently:')\n",
    "    print(x)\n",
    "    print('Still less than 3, add 1 to x')\n",
    "    x = x + 1\n",
    "    print('\\n')"
   ]
  },
  {
   "cell_type": "code",
   "execution_count": 3,
   "metadata": {},
   "outputs": [
    {
     "name": "stdout",
     "output_type": "stream",
     "text": [
      "Please input a number: 2\n"
     ]
    },
    {
     "data": {
      "text/plain": [
       "'2'"
      ]
     },
     "execution_count": 3,
     "metadata": {},
     "output_type": "execute_result"
    }
   ],
   "source": [
    "input('Please input a number: ')"
   ]
  },
  {
   "cell_type": "code",
   "execution_count": 4,
   "metadata": {},
   "outputs": [
    {
     "name": "stdout",
     "output_type": "stream",
     "text": [
      "Please input a number: 2\n"
     ]
    }
   ],
   "source": [
    "saved_input = input('Please input a number: ')"
   ]
  },
  {
   "cell_type": "code",
   "execution_count": 5,
   "metadata": {},
   "outputs": [
    {
     "data": {
      "text/plain": [
       "'2'"
      ]
     },
     "execution_count": 5,
     "metadata": {},
     "output_type": "execute_result"
    }
   ],
   "source": [
    "saved_input"
   ]
  },
  {
   "cell_type": "code",
   "execution_count": 7,
   "metadata": {},
   "outputs": [
    {
     "name": "stdout",
     "output_type": "stream",
     "text": [
      "Welcome Agent\n",
      "Please provide your passcode: 234\n",
      "Please provide your passcode: 345\n",
      "Please provide your passcode: 543\n",
      "Please provide your passcode: 45\n",
      "Please provide your passcode: 123\n"
     ]
    }
   ],
   "source": [
    "print('Welcome Agent')\n",
    "\n",
    "passcode = 0\n",
    "\n",
    "while passcode != 123:\n",
    "    passcode = int(input('Please provide your passcode: '))"
   ]
  },
  {
   "cell_type": "code",
   "execution_count": 9,
   "metadata": {},
   "outputs": [
    {
     "data": {
      "text/plain": [
       "False"
      ]
     },
     "execution_count": 9,
     "metadata": {},
     "output_type": "execute_result"
    }
   ],
   "source": [
    "'123' == 123"
   ]
  },
  {
   "cell_type": "code",
   "execution_count": 10,
   "metadata": {},
   "outputs": [
    {
     "data": {
      "text/plain": [
       "True"
      ]
     },
     "execution_count": 10,
     "metadata": {},
     "output_type": "execute_result"
    }
   ],
   "source": [
    "int('123') == 123"
   ]
  },
  {
   "cell_type": "code",
   "execution_count": 11,
   "metadata": {},
   "outputs": [
    {
     "data": {
      "text/plain": [
       "str"
      ]
     },
     "execution_count": 11,
     "metadata": {},
     "output_type": "execute_result"
    }
   ],
   "source": [
    "type('123')"
   ]
  },
  {
   "cell_type": "code",
   "execution_count": 12,
   "metadata": {},
   "outputs": [
    {
     "data": {
      "text/plain": [
       "int"
      ]
     },
     "execution_count": 12,
     "metadata": {},
     "output_type": "execute_result"
    }
   ],
   "source": [
    "type(123)"
   ]
  },
  {
   "cell_type": "code",
   "execution_count": 13,
   "metadata": {},
   "outputs": [
    {
     "name": "stdout",
     "output_type": "stream",
     "text": [
      "Welcome Agent\n",
      "Please provide your passcode: 345\n",
      "WRONG PASSCODE\n",
      "PLEASE TRY AGAIN\n",
      "\n",
      "\n",
      "Please provide your passcode: 456\n",
      "WRONG PASSCODE\n",
      "PLEASE TRY AGAIN\n",
      "\n",
      "\n",
      "Please provide your passcode: 543\n",
      "WRONG PASSCODE\n",
      "PLEASE TRY AGAIN\n",
      "\n",
      "\n",
      "Please provide your passcode: 456\n",
      "WRONG PASSCODE\n",
      "PLEASE TRY AGAIN\n",
      "\n",
      "\n",
      "Please provide your passcode: 123\n",
      "Correct Passcode\n"
     ]
    }
   ],
   "source": [
    "print('Welcome Agent')\n",
    "\n",
    "passcode = 0\n",
    "\n",
    "while passcode != 123:\n",
    "    passcode = int(input('Please provide your passcode: '))\n",
    "    \n",
    "    if passcode != 123:\n",
    "        print('WRONG PASSCODE')\n",
    "        print('PLEASE TRY AGAIN')\n",
    "        print('\\n')\n",
    "\n",
    "print('Correct Passcode')"
   ]
  },
  {
   "cell_type": "code",
   "execution_count": 15,
   "metadata": {},
   "outputs": [
    {
     "name": "stdout",
     "output_type": "stream",
     "text": [
      "0\n",
      "1\n",
      "2\n"
     ]
    }
   ],
   "source": [
    "x = 0\n",
    "\n",
    "while x < 10:\n",
    "    print(x)\n",
    "    x = x + 1\n",
    "    \n",
    "    if x == 3:\n",
    "        break"
   ]
  },
  {
   "cell_type": "code",
   "execution_count": null,
   "metadata": {},
   "outputs": [],
   "source": []
  }
 ],
 "metadata": {
  "kernelspec": {
   "display_name": "Python 3",
   "language": "python",
   "name": "python3"
  },
  "language_info": {
   "codemirror_mode": {
    "name": "ipython",
    "version": 3
   },
   "file_extension": ".py",
   "mimetype": "text/x-python",
   "name": "python",
   "nbconvert_exporter": "python",
   "pygments_lexer": "ipython3",
   "version": "3.7.3"
  }
 },
 "nbformat": 4,
 "nbformat_minor": 2
}
